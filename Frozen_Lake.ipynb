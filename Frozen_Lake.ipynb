{
  "nbformat": 4,
  "nbformat_minor": 0,
  "metadata": {
    "colab": {
      "name": "Frozen Lake.ipynb",
      "version": "0.3.2",
      "provenance": [],
      "collapsed_sections": [],
      "include_colab_link": true
    },
    "kernelspec": {
      "name": "python3",
      "display_name": "Python 3"
    }
  },
  "cells": [
    {
      "cell_type": "markdown",
      "metadata": {
        "id": "view-in-github",
        "colab_type": "text"
      },
      "source": [
        "<a href=\"https://colab.research.google.com/github/kevoniano/AI-stuff/blob/master/Frozen_Lake.ipynb\" target=\"_parent\"><img src=\"https://colab.research.google.com/assets/colab-badge.svg\" alt=\"Open In Colab\"/></a>"
      ]
    },
    {
      "cell_type": "markdown",
      "metadata": {
        "id": "rOnsPpH2N0gf",
        "colab_type": "text"
      },
      "source": [
        "# AI Gym y Q-learning para resolver un problema usando un MDP\n",
        "\n",
        "[AI Gym](http://gym.openai.com/docs/) es una librería que contiene ambientes para probar algoritmos de IA. \n",
        "\n",
        "AI Gym es útil para no tener que desarrollar ambientes de prueba y para poder comparar resultados entre experimentos directamente. "
      ]
    },
    {
      "cell_type": "markdown",
      "metadata": {
        "id": "bH_HPR0oCfzv",
        "colab_type": "text"
      },
      "source": [
        "# Instalar dependencias\n",
        "\n"
      ]
    },
    {
      "cell_type": "code",
      "metadata": {
        "id": "5nJMsfYh-_yj",
        "colab_type": "code",
        "colab": {}
      },
      "source": [
        "import gym\n",
        "import numpy as np\n",
        "from IPython import display\n",
        "import matplotlib.pyplot as plt\n",
        "%matplotlib inline"
      ],
      "execution_count": 0,
      "outputs": []
    },
    {
      "cell_type": "markdown",
      "metadata": {
        "id": "mvwHKQmWC6AN",
        "colab_type": "text"
      },
      "source": [
        "# Crear un ambiente\n",
        "Vamos a jugar con [Frozen lake](https://gym.openai.com/envs/FrozenLake-v0/). \n",
        "\n",
        "El invierno esta aqui. Tú y tus amigos están jugando con un frisbee cerca de un lago cuando uno de ellos se aloca y avienta el frisbee al centro del lago. \n",
        "\n",
        "El agua está mayormente congelada, pero hay algunos agujeros donde el hielo se ha derretido. Si entras en uno de esos agujeros, caerás en el agua helada (RIP: apareces en las noticias). Pero vale la pena arriesgarse porque hay una escasez internacional de frisbees, por lo que es absolutamente imperativo que vayas al lago y recuperes el disco. **Sin embargo, el hielo es resbaladizo, por lo que no siempre te moverás en la dirección que deseas**. \n",
        "\n",
        "El lago se muestra como un texto. En **S** empiezas, **F** es el hielo, **H** es el hoyo mortal y **G** es a donde tienes que llegar. \n"
      ]
    },
    {
      "cell_type": "code",
      "metadata": {
        "id": "6cfVV2jQ_M_X",
        "colab_type": "code",
        "outputId": "1ab68b2e-60de-4492-9437-c683d4cf130a",
        "colab": {
          "base_uri": "https://localhost:8080/",
          "height": 102
        }
      },
      "source": [
        "# Instanciamos el ambiente\n",
        "env = gym.make('FrozenLake-v0')\n",
        "# Lo inicializamos\n",
        "obs= env.reset()\n",
        "# Mostramos el estado actual\n",
        "env.render()"
      ],
      "execution_count": 2,
      "outputs": [
        {
          "output_type": "stream",
          "text": [
            "\n",
            "\u001b[41mS\u001b[0mFFF\n",
            "FHFH\n",
            "FFFH\n",
            "HFFG\n"
          ],
          "name": "stdout"
        }
      ]
    },
    {
      "cell_type": "markdown",
      "metadata": {
        "id": "348ZaosaE4-f",
        "colab_type": "text"
      },
      "source": [
        "# Muevete en el lago\n",
        "\n",
        "Juega en el lago. Estas son las acciones:\n",
        "\n",
        "- LEFT = 0\n",
        "- DOWN = 1\n",
        "- RIGHT = 2\n",
        "- UP = 3"
      ]
    },
    {
      "cell_type": "code",
      "metadata": {
        "id": "4q5D8k7cBi1-",
        "colab_type": "code",
        "colab": {
          "base_uri": "https://localhost:8080/",
          "height": 187
        },
        "outputId": "a9190c54-4223-4d89-ae96-001d33f3f7b8"
      },
      "source": [
        "# Muevete a la izquierda y luego arriba\n",
        "obs= env.reset()\n",
        "# Ejecuta la accion 0\n",
        "env.step(0)\n",
        "env.render()\n",
        "# Ejecuta la accion 3\n",
        "env.step(3)\n",
        "env.render()"
      ],
      "execution_count": 3,
      "outputs": [
        {
          "output_type": "stream",
          "text": [
            "  (Left)\n",
            "\u001b[41mS\u001b[0mFFF\n",
            "FHFH\n",
            "FFFH\n",
            "HFFG\n",
            "  (Up)\n",
            "\u001b[41mS\u001b[0mFFF\n",
            "FHFH\n",
            "FFFH\n",
            "HFFG\n"
          ],
          "name": "stdout"
        }
      ]
    },
    {
      "cell_type": "code",
      "metadata": {
        "id": "bMhgLUpyFhiS",
        "colab_type": "code",
        "colab": {
          "base_uri": "https://localhost:8080/",
          "height": 527
        },
        "outputId": "3e428121-2b12-4fd4-d32c-23e0d2ded2b5"
      },
      "source": [
        "# Esta secuencia de pasos deberia llevarte a la celda G. O no?\n",
        "obs= env.reset()\n",
        "actions = [1, 1, 2, 1, 2, 2]\n",
        "for a in actions: \n",
        "  env.step(a)\n",
        "  env.render()"
      ],
      "execution_count": 4,
      "outputs": [
        {
          "output_type": "stream",
          "text": [
            "  (Down)\n",
            "S\u001b[41mF\u001b[0mFF\n",
            "FHFH\n",
            "FFFH\n",
            "HFFG\n",
            "  (Down)\n",
            "SF\u001b[41mF\u001b[0mF\n",
            "FHFH\n",
            "FFFH\n",
            "HFFG\n",
            "  (Right)\n",
            "SFF\u001b[41mF\u001b[0m\n",
            "FHFH\n",
            "FFFH\n",
            "HFFG\n",
            "  (Down)\n",
            "SFF\u001b[41mF\u001b[0m\n",
            "FHFH\n",
            "FFFH\n",
            "HFFG\n",
            "  (Right)\n",
            "SFFF\n",
            "FHF\u001b[41mH\u001b[0m\n",
            "FFFH\n",
            "HFFG\n",
            "  (Right)\n",
            "SFFF\n",
            "FHF\u001b[41mH\u001b[0m\n",
            "FFFH\n",
            "HFFG\n"
          ],
          "name": "stdout"
        }
      ]
    },
    {
      "cell_type": "code",
      "metadata": {
        "id": "Mjpu5i6EG0bd",
        "colab_type": "code",
        "colab": {
          "base_uri": "https://localhost:8080/",
          "height": 1000
        },
        "outputId": "b626214e-bd84-4dab-cc59-a1e69d692f9e"
      },
      "source": [
        "# O usa el teclado para moverte, tienes  20 intentos.\n",
        "# LEFT = 0\n",
        "# DOWN = 1\n",
        "# RIGHT = 2\n",
        "# UP = 3\n",
        "limit_steps = 20\n",
        "obs= env.reset()\n",
        "env.render()\n",
        "for s in range(limit_steps):\n",
        "  user_action = int(input(\"Accion: \"))\n",
        "  env.step(user_action)\n",
        "  env.render()\n",
        "print()\n",
        "print(\"No pudiste ja ja\")"
      ],
      "execution_count": 6,
      "outputs": [
        {
          "output_type": "stream",
          "text": [
            "\n",
            "\u001b[41mS\u001b[0mFFF\n",
            "FHFH\n",
            "FFFH\n",
            "HFFG\n",
            "Accion: 1\n",
            "  (Down)\n",
            "S\u001b[41mF\u001b[0mFF\n",
            "FHFH\n",
            "FFFH\n",
            "HFFG\n",
            "Accion: 3\n",
            "  (Up)\n",
            "\u001b[41mS\u001b[0mFFF\n",
            "FHFH\n",
            "FFFH\n",
            "HFFG\n",
            "Accion: 0\n",
            "  (Left)\n",
            "SFFF\n",
            "\u001b[41mF\u001b[0mHFH\n",
            "FFFH\n",
            "HFFG\n",
            "Accion: 1\n",
            "  (Down)\n",
            "SFFF\n",
            "F\u001b[41mH\u001b[0mFH\n",
            "FFFH\n",
            "HFFG\n",
            "Accion: 2\n",
            "  (Right)\n",
            "SFFF\n",
            "F\u001b[41mH\u001b[0mFH\n",
            "FFFH\n",
            "HFFG\n"
          ],
          "name": "stdout"
        },
        {
          "output_type": "error",
          "ename": "KeyboardInterrupt",
          "evalue": "ignored",
          "traceback": [
            "\u001b[0;31m---------------------------------------------------------------------------\u001b[0m",
            "\u001b[0;31mKeyboardInterrupt\u001b[0m                         Traceback (most recent call last)",
            "\u001b[0;32m/usr/local/lib/python3.6/dist-packages/ipykernel/kernelbase.py\u001b[0m in \u001b[0;36m_input_request\u001b[0;34m(self, prompt, ident, parent, password)\u001b[0m\n\u001b[1;32m    729\u001b[0m             \u001b[0;32mtry\u001b[0m\u001b[0;34m:\u001b[0m\u001b[0;34m\u001b[0m\u001b[0;34m\u001b[0m\u001b[0m\n\u001b[0;32m--> 730\u001b[0;31m                 \u001b[0mident\u001b[0m\u001b[0;34m,\u001b[0m \u001b[0mreply\u001b[0m \u001b[0;34m=\u001b[0m \u001b[0mself\u001b[0m\u001b[0;34m.\u001b[0m\u001b[0msession\u001b[0m\u001b[0;34m.\u001b[0m\u001b[0mrecv\u001b[0m\u001b[0;34m(\u001b[0m\u001b[0mself\u001b[0m\u001b[0;34m.\u001b[0m\u001b[0mstdin_socket\u001b[0m\u001b[0;34m,\u001b[0m \u001b[0;36m0\u001b[0m\u001b[0;34m)\u001b[0m\u001b[0;34m\u001b[0m\u001b[0;34m\u001b[0m\u001b[0m\n\u001b[0m\u001b[1;32m    731\u001b[0m             \u001b[0;32mexcept\u001b[0m \u001b[0mException\u001b[0m\u001b[0;34m:\u001b[0m\u001b[0;34m\u001b[0m\u001b[0;34m\u001b[0m\u001b[0m\n",
            "\u001b[0;32m/usr/local/lib/python3.6/dist-packages/jupyter_client/session.py\u001b[0m in \u001b[0;36mrecv\u001b[0;34m(self, socket, mode, content, copy)\u001b[0m\n\u001b[1;32m    802\u001b[0m         \u001b[0;32mtry\u001b[0m\u001b[0;34m:\u001b[0m\u001b[0;34m\u001b[0m\u001b[0;34m\u001b[0m\u001b[0m\n\u001b[0;32m--> 803\u001b[0;31m             \u001b[0mmsg_list\u001b[0m \u001b[0;34m=\u001b[0m \u001b[0msocket\u001b[0m\u001b[0;34m.\u001b[0m\u001b[0mrecv_multipart\u001b[0m\u001b[0;34m(\u001b[0m\u001b[0mmode\u001b[0m\u001b[0;34m,\u001b[0m \u001b[0mcopy\u001b[0m\u001b[0;34m=\u001b[0m\u001b[0mcopy\u001b[0m\u001b[0;34m)\u001b[0m\u001b[0;34m\u001b[0m\u001b[0;34m\u001b[0m\u001b[0m\n\u001b[0m\u001b[1;32m    804\u001b[0m         \u001b[0;32mexcept\u001b[0m \u001b[0mzmq\u001b[0m\u001b[0;34m.\u001b[0m\u001b[0mZMQError\u001b[0m \u001b[0;32mas\u001b[0m \u001b[0me\u001b[0m\u001b[0;34m:\u001b[0m\u001b[0;34m\u001b[0m\u001b[0;34m\u001b[0m\u001b[0m\n",
            "\u001b[0;32m/usr/local/lib/python3.6/dist-packages/zmq/sugar/socket.py\u001b[0m in \u001b[0;36mrecv_multipart\u001b[0;34m(self, flags, copy, track)\u001b[0m\n\u001b[1;32m    465\u001b[0m         \"\"\"\n\u001b[0;32m--> 466\u001b[0;31m         \u001b[0mparts\u001b[0m \u001b[0;34m=\u001b[0m \u001b[0;34m[\u001b[0m\u001b[0mself\u001b[0m\u001b[0;34m.\u001b[0m\u001b[0mrecv\u001b[0m\u001b[0;34m(\u001b[0m\u001b[0mflags\u001b[0m\u001b[0;34m,\u001b[0m \u001b[0mcopy\u001b[0m\u001b[0;34m=\u001b[0m\u001b[0mcopy\u001b[0m\u001b[0;34m,\u001b[0m \u001b[0mtrack\u001b[0m\u001b[0;34m=\u001b[0m\u001b[0mtrack\u001b[0m\u001b[0;34m)\u001b[0m\u001b[0;34m]\u001b[0m\u001b[0;34m\u001b[0m\u001b[0;34m\u001b[0m\u001b[0m\n\u001b[0m\u001b[1;32m    467\u001b[0m         \u001b[0;31m# have first part already, only loop while more to receive\u001b[0m\u001b[0;34m\u001b[0m\u001b[0;34m\u001b[0m\u001b[0;34m\u001b[0m\u001b[0m\n",
            "\u001b[0;32mzmq/backend/cython/socket.pyx\u001b[0m in \u001b[0;36mzmq.backend.cython.socket.Socket.recv\u001b[0;34m()\u001b[0m\n",
            "\u001b[0;32mzmq/backend/cython/socket.pyx\u001b[0m in \u001b[0;36mzmq.backend.cython.socket.Socket.recv\u001b[0;34m()\u001b[0m\n",
            "\u001b[0;32mzmq/backend/cython/socket.pyx\u001b[0m in \u001b[0;36mzmq.backend.cython.socket._recv_copy\u001b[0;34m()\u001b[0m\n",
            "\u001b[0;32m/usr/local/lib/python3.6/dist-packages/zmq/backend/cython/checkrc.pxd\u001b[0m in \u001b[0;36mzmq.backend.cython.checkrc._check_rc\u001b[0;34m()\u001b[0m\n",
            "\u001b[0;31mKeyboardInterrupt\u001b[0m: ",
            "\nDuring handling of the above exception, another exception occurred:\n",
            "\u001b[0;31mKeyboardInterrupt\u001b[0m                         Traceback (most recent call last)",
            "\u001b[0;32m<ipython-input-6-b3edf56fe5e0>\u001b[0m in \u001b[0;36m<module>\u001b[0;34m()\u001b[0m\n\u001b[1;32m      3\u001b[0m \u001b[0menv\u001b[0m\u001b[0;34m.\u001b[0m\u001b[0mrender\u001b[0m\u001b[0;34m(\u001b[0m\u001b[0;34m)\u001b[0m\u001b[0;34m\u001b[0m\u001b[0;34m\u001b[0m\u001b[0m\n\u001b[1;32m      4\u001b[0m \u001b[0;32mfor\u001b[0m \u001b[0ms\u001b[0m \u001b[0;32min\u001b[0m \u001b[0mrange\u001b[0m\u001b[0;34m(\u001b[0m\u001b[0mlimit_steps\u001b[0m\u001b[0;34m)\u001b[0m\u001b[0;34m:\u001b[0m\u001b[0;34m\u001b[0m\u001b[0;34m\u001b[0m\u001b[0m\n\u001b[0;32m----> 5\u001b[0;31m   \u001b[0muser_action\u001b[0m \u001b[0;34m=\u001b[0m \u001b[0mint\u001b[0m\u001b[0;34m(\u001b[0m\u001b[0minput\u001b[0m\u001b[0;34m(\u001b[0m\u001b[0;34m\"Accion: \"\u001b[0m\u001b[0;34m)\u001b[0m\u001b[0;34m)\u001b[0m\u001b[0;34m\u001b[0m\u001b[0;34m\u001b[0m\u001b[0m\n\u001b[0m\u001b[1;32m      6\u001b[0m   \u001b[0menv\u001b[0m\u001b[0;34m.\u001b[0m\u001b[0mstep\u001b[0m\u001b[0;34m(\u001b[0m\u001b[0muser_action\u001b[0m\u001b[0;34m)\u001b[0m\u001b[0;34m\u001b[0m\u001b[0;34m\u001b[0m\u001b[0m\n\u001b[1;32m      7\u001b[0m   \u001b[0menv\u001b[0m\u001b[0;34m.\u001b[0m\u001b[0mrender\u001b[0m\u001b[0;34m(\u001b[0m\u001b[0;34m)\u001b[0m\u001b[0;34m\u001b[0m\u001b[0;34m\u001b[0m\u001b[0m\n",
            "\u001b[0;32m/usr/local/lib/python3.6/dist-packages/ipykernel/kernelbase.py\u001b[0m in \u001b[0;36mraw_input\u001b[0;34m(self, prompt)\u001b[0m\n\u001b[1;32m    703\u001b[0m             \u001b[0mself\u001b[0m\u001b[0;34m.\u001b[0m\u001b[0m_parent_ident\u001b[0m\u001b[0;34m,\u001b[0m\u001b[0;34m\u001b[0m\u001b[0;34m\u001b[0m\u001b[0m\n\u001b[1;32m    704\u001b[0m             \u001b[0mself\u001b[0m\u001b[0;34m.\u001b[0m\u001b[0m_parent_header\u001b[0m\u001b[0;34m,\u001b[0m\u001b[0;34m\u001b[0m\u001b[0;34m\u001b[0m\u001b[0m\n\u001b[0;32m--> 705\u001b[0;31m             \u001b[0mpassword\u001b[0m\u001b[0;34m=\u001b[0m\u001b[0;32mFalse\u001b[0m\u001b[0;34m,\u001b[0m\u001b[0;34m\u001b[0m\u001b[0;34m\u001b[0m\u001b[0m\n\u001b[0m\u001b[1;32m    706\u001b[0m         )\n\u001b[1;32m    707\u001b[0m \u001b[0;34m\u001b[0m\u001b[0m\n",
            "\u001b[0;32m/usr/local/lib/python3.6/dist-packages/ipykernel/kernelbase.py\u001b[0m in \u001b[0;36m_input_request\u001b[0;34m(self, prompt, ident, parent, password)\u001b[0m\n\u001b[1;32m    733\u001b[0m             \u001b[0;32mexcept\u001b[0m \u001b[0mKeyboardInterrupt\u001b[0m\u001b[0;34m:\u001b[0m\u001b[0;34m\u001b[0m\u001b[0;34m\u001b[0m\u001b[0m\n\u001b[1;32m    734\u001b[0m                 \u001b[0;31m# re-raise KeyboardInterrupt, to truncate traceback\u001b[0m\u001b[0;34m\u001b[0m\u001b[0;34m\u001b[0m\u001b[0;34m\u001b[0m\u001b[0m\n\u001b[0;32m--> 735\u001b[0;31m                 \u001b[0;32mraise\u001b[0m \u001b[0mKeyboardInterrupt\u001b[0m\u001b[0;34m\u001b[0m\u001b[0;34m\u001b[0m\u001b[0m\n\u001b[0m\u001b[1;32m    736\u001b[0m             \u001b[0;32melse\u001b[0m\u001b[0;34m:\u001b[0m\u001b[0;34m\u001b[0m\u001b[0;34m\u001b[0m\u001b[0m\n\u001b[1;32m    737\u001b[0m                 \u001b[0;32mbreak\u001b[0m\u001b[0;34m\u001b[0m\u001b[0;34m\u001b[0m\u001b[0m\n",
            "\u001b[0;31mKeyboardInterrupt\u001b[0m: "
          ]
        }
      ]
    },
    {
      "cell_type": "markdown",
      "metadata": {
        "id": "No9ZPYujH-CU",
        "colab_type": "text"
      },
      "source": [
        "# Ahora usemos RL"
      ]
    },
    {
      "cell_type": "code",
      "metadata": {
        "id": "ilnsdGs7H9IG",
        "colab_type": "code",
        "colab": {
          "base_uri": "https://localhost:8080/",
          "height": 51
        },
        "outputId": "a2ce5287-d652-491f-c953-d35caf2e6638"
      },
      "source": [
        "env = gym.make('FrozenLake-v0')\n",
        "env.reset()\n",
        "\n",
        "# Usamos metodos especiales para acceder al numero de acciones del ambiente\n",
        "NUM_ACTIONS = env.action_space.n\n",
        "NUM_STATES = env.observation_space.n\n",
        "\n",
        "# Creamos la tabla Q\n",
        "Q = np.zeros([NUM_STATES, NUM_ACTIONS]) \n",
        "\n",
        "gamma = 0.95  # factor de descuento\n",
        "alpha = 0.01  # tasa de aprendizaje\n",
        "epsilon = 0.1  # para epsilon greedy\n",
        "\n",
        "print(NUM_ACTIONS)\n",
        "print(NUM_STATES)"
      ],
      "execution_count": 8,
      "outputs": [
        {
          "output_type": "stream",
          "text": [
            "4\n",
            "16\n"
          ],
          "name": "stdout"
        }
      ]
    },
    {
      "cell_type": "code",
      "metadata": {
        "id": "O0K-Zg0QKtzC",
        "colab_type": "code",
        "colab": {
          "base_uri": "https://localhost:8080/",
          "height": 867
        },
        "outputId": "23e38b26-7c38-42e3-d02b-1b8ee0689e53"
      },
      "source": [
        "# ahora vamos a probar la tabla Q entrenada (es probable que te caigas todavía!)\n",
        "rew_tot=0.\n",
        "obs= env.reset()\n",
        "done=False\n",
        "while done != True: \n",
        "    # explotar\n",
        "    action = np.argmax(Q[obs])\n",
        "    obs, rew, done, info = env.step(action) \n",
        "    print(obs, rew, done, info)\n",
        "    rew_tot += rew\n",
        "    env.render()\n",
        "\n",
        "print(\"Recompensa:\", rew_tot)  \n",
        "if(rew_tot == 1):\n",
        "  print(\"Encontraste tu frisbee :)\")\n",
        "else:\n",
        "  print(\"Saliste en las noticias :(\")"
      ],
      "execution_count": 13,
      "outputs": [
        {
          "output_type": "stream",
          "text": [
            "4 0.0 False {'prob': 0.3333333333333333}\n",
            "  (Left)\n",
            "SFFF\n",
            "\u001b[41mF\u001b[0mHFH\n",
            "FFFH\n",
            "HFFG\n",
            "8 0.0 False {'prob': 0.3333333333333333}\n",
            "  (Left)\n",
            "SFFF\n",
            "FHFH\n",
            "\u001b[41mF\u001b[0mFFH\n",
            "HFFG\n",
            "9 0.0 False {'prob': 0.3333333333333333}\n",
            "  (Up)\n",
            "SFFF\n",
            "FHFH\n",
            "F\u001b[41mF\u001b[0mFH\n",
            "HFFG\n",
            "13 0.0 False {'prob': 0.3333333333333333}\n",
            "  (Down)\n",
            "SFFF\n",
            "FHFH\n",
            "FFFH\n",
            "H\u001b[41mF\u001b[0mFG\n",
            "14 0.0 False {'prob': 0.3333333333333333}\n",
            "  (Right)\n",
            "SFFF\n",
            "FHFH\n",
            "FFFH\n",
            "HF\u001b[41mF\u001b[0mG\n",
            "14 0.0 False {'prob': 0.3333333333333333}\n",
            "  (Down)\n",
            "SFFF\n",
            "FHFH\n",
            "FFFH\n",
            "HF\u001b[41mF\u001b[0mG\n",
            "14 0.0 False {'prob': 0.3333333333333333}\n",
            "  (Down)\n",
            "SFFF\n",
            "FHFH\n",
            "FFFH\n",
            "HF\u001b[41mF\u001b[0mG\n",
            "15 1.0 True {'prob': 0.3333333333333333}\n",
            "  (Down)\n",
            "SFFF\n",
            "FHFH\n",
            "FFFH\n",
            "HFF\u001b[41mG\u001b[0m\n",
            "Recompensa: 1.0\n",
            "Encontraste tu frisbee :)\n"
          ],
          "name": "stdout"
        }
      ]
    },
    {
      "cell_type": "code",
      "metadata": {
        "id": "D_sGAGfVI9Pi",
        "colab_type": "code",
        "outputId": "17e0f419-be1b-4547-cec7-628f56651311",
        "colab": {
          "base_uri": "https://localhost:8080/",
          "height": 408
        }
      },
      "source": [
        "# Vamos a entrenar por 500,000 episodios\n",
        "for episode in range(1,500001):\n",
        "    done = False\n",
        "    obs = env.reset()\n",
        "    while done != True:\n",
        "        if np.random.rand(1) < epsilon:\n",
        "            # exploramos con probabilidad epsilon (epsilon greedy)\n",
        "            action = env.action_space.sample()\n",
        "        else:\n",
        "            # explotar\n",
        "            action = np.argmax(Q[obs])\n",
        "            \n",
        "        # ejecutar una accion\n",
        "        obs2, rew, done, info = env.step(action) \n",
        "        \n",
        "        # actualizar tabla Q\n",
        "        # aqui sucede el aprendizaje -------------------------------------------\n",
        "        Q[obs,action] += alpha * (rew + gamma * np.max(Q[obs2]) - Q[obs,action]) \n",
        "        # ----------------------------------------------------------------------\n",
        "        \n",
        "        obs = obs2   \n",
        "        \n",
        "    if episode % 5000 == 0:\n",
        "        # reportar cada 5,000 pasos\n",
        "        # probar cada 100 episodios para calcular el puntaje promedio y verificar si esta resuelto\n",
        "        rew_average = 0.\n",
        "        for i in range(100):\n",
        "            obs= env.reset()\n",
        "            done=False\n",
        "            while done != True: \n",
        "                # explotar\n",
        "                action = np.argmax(Q[obs])\n",
        "                obs, rew, done, info = env.step(action) \n",
        "                rew_average += rew\n",
        "        rew_average=rew_average/100\n",
        "        print('Episodio: {}. Recompensa promedio: {}'.format(episode,rew_average))\n",
        "        \n",
        "        if rew_average > 0.8:\n",
        "            # FrozenLake-v0 defines \"solving\" as getting average reward of 0.78 over 100 consecutive trials.\n",
        "            # FrozenLake-v0 define \"resolver\" como tener un promedio de 0.78 en 100 intentos\n",
        "            # Somos exigentes y probamos con 0.8\n",
        "            print(\"Problema resuelto: encontraste tu frisbee. \")\n",
        "            break"
      ],
      "execution_count": 9,
      "outputs": [
        {
          "output_type": "stream",
          "text": [
            "Episodio: 5000. Recompensa promedio: 0.0\n",
            "Episodio: 10000. Recompensa promedio: 0.0\n",
            "Episodio: 15000. Recompensa promedio: 0.0\n",
            "Episodio: 20000. Recompensa promedio: 0.05\n",
            "Episodio: 25000. Recompensa promedio: 0.13\n",
            "Episodio: 30000. Recompensa promedio: 0.71\n",
            "Episodio: 35000. Recompensa promedio: 0.76\n",
            "Episodio: 40000. Recompensa promedio: 0.69\n",
            "Episodio: 45000. Recompensa promedio: 0.68\n",
            "Episodio: 50000. Recompensa promedio: 0.78\n",
            "Episodio: 55000. Recompensa promedio: 0.75\n",
            "Episodio: 60000. Recompensa promedio: 0.77\n",
            "Episodio: 65000. Recompensa promedio: 0.71\n",
            "Episodio: 70000. Recompensa promedio: 0.76\n",
            "Episodio: 75000. Recompensa promedio: 0.67\n",
            "Episodio: 80000. Recompensa promedio: 0.77\n",
            "Episodio: 85000. Recompensa promedio: 0.7\n",
            "Episodio: 90000. Recompensa promedio: 0.8\n",
            "Episodio: 95000. Recompensa promedio: 0.67\n",
            "Episodio: 100000. Recompensa promedio: 0.64\n",
            "Episodio: 105000. Recompensa promedio: 0.75\n",
            "Episodio: 110000. Recompensa promedio: 0.81\n",
            "Problema resuelto: encontraste tu frisbee. \n"
          ],
          "name": "stdout"
        }
      ]
    },
    {
      "cell_type": "code",
      "metadata": {
        "id": "FkgYi_TVSjLe",
        "colab_type": "code",
        "colab": {
          "base_uri": "https://localhost:8080/",
          "height": 306
        },
        "outputId": "36e52dd5-8f24-49b2-fd79-4b9555a795d1"
      },
      "source": [
        "print(\"Esta es la tabla Q\")\n",
        "print(Q)"
      ],
      "execution_count": 10,
      "outputs": [
        {
          "output_type": "stream",
          "text": [
            "Esta es la tabla Q\n",
            "[[0.17935732 0.1687829  0.16394224 0.16133913]\n",
            " [0.10985574 0.09903054 0.10143319 0.15055548]\n",
            " [0.14640311 0.14138566 0.14198603 0.13638419]\n",
            " [0.04617387 0.04162181 0.05220083 0.12923519]\n",
            " [0.20723859 0.15536446 0.12639106 0.11260476]\n",
            " [0.         0.         0.         0.        ]\n",
            " [0.15575635 0.10454368 0.16095946 0.04800113]\n",
            " [0.         0.         0.         0.        ]\n",
            " [0.14383266 0.20299543 0.1748917  0.26229952]\n",
            " [0.26182872 0.36090822 0.28616555 0.20983711]\n",
            " [0.3869271  0.35541888 0.26343635 0.16217693]\n",
            " [0.         0.         0.         0.        ]\n",
            " [0.         0.         0.         0.        ]\n",
            " [0.28022672 0.35642439 0.4952045  0.33908445]\n",
            " [0.50680717 0.70378203 0.68389865 0.61548364]\n",
            " [0.         0.         0.         0.        ]]\n"
          ],
          "name": "stdout"
        }
      ]
    },
    {
      "cell_type": "code",
      "metadata": {
        "id": "o3aKiKfISoP3",
        "colab_type": "code",
        "colab": {}
      },
      "source": [
        ""
      ],
      "execution_count": 0,
      "outputs": []
    }
  ]
}