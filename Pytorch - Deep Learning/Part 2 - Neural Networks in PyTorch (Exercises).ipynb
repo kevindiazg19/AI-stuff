{
 "cells": [
  {
   "cell_type": "markdown",
   "metadata": {},
   "source": [
    "# Neural networks with PyTorch\n",
    "\n",
    "Deep learning networks tend to be massive with dozens or hundreds of layers, that's where the term \"deep\" comes from. You can build one of these deep networks using only weight matrices as we did in the previous notebook, but in general it's very cumbersome and difficult to implement. PyTorch has a nice module `nn` that provides a nice way to efficiently build large neural networks."
   ]
  },
  {
   "cell_type": "code",
   "execution_count": 1,
   "metadata": {},
   "outputs": [],
   "source": [
    "# Import necessary packages\n",
    "\n",
    "%matplotlib inline\n",
    "%config InlineBackend.figure_format = 'retina'\n",
    "\n",
    "import numpy as np\n",
    "import torch\n",
    "\n",
    "import helper\n",
    "\n",
    "import matplotlib.pyplot as plt"
   ]
  },
  {
   "cell_type": "markdown",
   "metadata": {},
   "source": [
    "\n",
    "Now we're going to build a larger network that can solve a (formerly) difficult problem, identifying text in an image. Here we'll use the MNIST dataset which consists of greyscale handwritten digits. Each image is 28x28 pixels, you can see a sample below\n",
    "\n",
    "<img src='assets/mnist.png'>\n",
    "\n",
    "Our goal is to build a neural network that can take one of these images and predict the digit in the image.\n",
    "\n",
    "First up, we need to get our dataset. This is provided through the `torchvision` package. The code below will download the MNIST dataset, then create training and test datasets for us. Don't worry too much about the details here, you'll learn more about this later."
   ]
  },
  {
   "cell_type": "code",
   "execution_count": 2,
   "metadata": {},
   "outputs": [],
   "source": [
    "### Run this cell\n",
    "\n",
    "from torchvision import datasets, transforms\n",
    "\n",
    "# Define a transform to normalize the data\n",
    "transform = transforms.Compose([transforms.ToTensor(),\n",
    "                              transforms.Normalize((0.5,), (0.5,)),\n",
    "                              ])\n",
    "\n",
    "# Download and load the training data\n",
    "trainset = datasets.MNIST('~/.pytorch/MNIST_data/', download=True, train=True, transform=transform)\n",
    "trainloader = torch.utils.data.DataLoader(trainset, batch_size=64, shuffle=True)"
   ]
  },
  {
   "cell_type": "markdown",
   "metadata": {},
   "source": [
    "We have the training data loaded into `trainloader` and we make that an iterator with `iter(trainloader)`. Later, we'll use this to loop through the dataset for training, like\n",
    "\n",
    "```python\n",
    "for image, label in trainloader:\n",
    "    ## do things with images and labels\n",
    "```\n",
    "\n",
    "You'll notice I created the `trainloader` with a batch size of 64, and `shuffle=True`. The batch size is the number of images we get in one iteration from the data loader and pass through our network, often called a *batch*. And `shuffle=True` tells it to shuffle the dataset every time we start going through the data loader again. But here I'm just grabbing the first batch so we can check out the data. We can see below that `images` is just a tensor with size `(64, 1, 28, 28)`. So, 64 images per batch, 1 color channel, and 28x28 images."
   ]
  },
  {
   "cell_type": "code",
   "execution_count": 3,
   "metadata": {},
   "outputs": [
    {
     "name": "stdout",
     "output_type": "stream",
     "text": [
      "<class 'torch.Tensor'>\n",
      "torch.Size([64, 1, 28, 28])\n",
      "torch.Size([64])\n"
     ]
    }
   ],
   "source": [
    "dataiter = iter(trainloader)\n",
    "images, labels = dataiter.next()\n",
    "print(type(images))\n",
    "print(images.shape)\n",
    "print(labels.shape)"
   ]
  },
  {
   "cell_type": "markdown",
   "metadata": {},
   "source": [
    "This is what one of the images looks like. "
   ]
  },
  {
   "cell_type": "code",
   "execution_count": 4,
   "metadata": {},
   "outputs": [
    {
     "data": {
      "image/png": "[encoded data removed]",
      "text/plain": [
       "<Figure size 432x288 with 1 Axes>"
      ]
     },
     "metadata": {
      "image/png": {
       "height": 250,
       "width": 253
      },
      "needs_background": "light"
     },
     "output_type": "display_data"
    }
   ],
   "source": [
    "plt.imshow(images[1].numpy().squeeze(), cmap='Greys_r');"
   ]
  },
  {
   "cell_type": "markdown",
   "metadata": {},
   "source": [
    "First, let's try to build a simple network for this dataset using weight matrices and matrix multiplications. Then, we'll see how to do it using PyTorch's `nn` module which provides a much more convenient and powerful method for defining network architectures.\n",
    "\n",
    "The networks you've seen so far are called *fully-connected* or *dense* networks. Each unit in one layer is connected to each unit in the next layer. In fully-connected networks, the input to each layer must be a one-dimensional vector (which can be stacked into a 2D tensor as a batch of multiple examples). However, our images are 28x28 2D tensors, so we need to convert them into 1D vectors. Thinking about sizes, we need to convert the batch of images with shape `(64, 1, 28, 28)` to a have a shape of `(64, 784)`, 784 is 28 times 28. This is typically called *flattening*, we flattened the 2D images into 1D vectors.\n",
    "\n",
    "Previously you built a network with one output unit. Here we need 10 output units, one for each digit. We want our network to predict the digit shown in an image, so what we'll do is calculate probabilities that the image is of any one digit or class. This ends up being a discrete probability distribution over the classes (digits) that tells us the most likely class for the image. That means we need 10 output units for the 10 classes (digits). We'll see how to convert the network output into a probability distribution next.\n",
    "\n",
    "> **Exercise:** Flatten the batch of images `images`. Then build a multi-layer network with 784 input units, 256 hidden units, and 10 output units using random tensors for the weights and biases. For now, use a sigmoid activation for the hidden layer. Leave the output layer without an activation, we'll add one that gives us a probability distribution next."
   ]
  },
  {
   "cell_type": "code",
   "execution_count": 7,
   "metadata": {},
   "outputs": [
    {
     "name": "stdout",
     "output_type": "stream",
     "text": [
      "tensor([[ 10.6491,   2.1818, -21.8533,  14.2755,   2.0541,  -2.7739,  17.4620,\n",
      "          -2.7705,  20.9139,  10.2376],\n",
      "        [ 15.0275,   4.5973, -15.9227,   9.6538,  -2.2419,  -6.4966,  12.7187,\n",
      "          -4.7390,  22.4783,  14.6833],\n",
      "        [  9.3352,   2.0426, -17.2752,   9.6054,  -5.2521,  -2.8766,  11.0122,\n",
      "          -1.1508,  20.0688,   9.3214],\n",
      "        [  0.4532,   7.5629, -16.7204,  16.1372,  -7.4663,   6.5170,  11.7857,\n",
      "          -3.2140,  23.0725,   4.9255],\n",
      "        [  9.5575,   7.5978, -14.0604,  15.2153,   1.3599,   0.9400,  12.8175,\n",
      "          -2.8027,  23.9360,  16.2143],\n",
      "        [  9.0392,  12.3365, -21.3523,  15.1946,   1.3880,  -1.2954,  17.7023,\n",
      "          -2.7725,  16.8388,  18.1238],\n",
      "        [ 19.3930,   7.8864, -19.7053,   9.8771,   1.1288,  -7.3744,  11.5412,\n",
      "           4.7598,  22.4320,  16.4172],\n",
      "        [ 17.0510,   5.8591, -15.2807,  22.9234,  -2.1207, -13.1074,   8.7272,\n",
      "           4.7161,  23.7795,  10.2141],\n",
      "        [ 14.4316,   6.8228, -17.3166,   9.1431,   0.5597, -10.0216,  13.8637,\n",
      "          -1.7680,  21.0275,  14.4241],\n",
      "        [  7.7362,  -1.7925, -17.4696,  16.9009,  11.0490,  -2.0918,  14.8840,\n",
      "           1.7909,  10.8570,  11.4056],\n",
      "        [  5.8408,   4.4115, -16.0236,  25.4951,   3.9499, -11.0624,  10.9254,\n",
      "          -4.9173,  16.2118,  17.7539],\n",
      "        [  7.0005,   8.3591, -25.1632,  16.7656,  -0.6567,  -7.0560,  10.8951,\n",
      "           1.9678,   8.1786,  20.7831],\n",
      "        [  6.8658,  10.1675, -12.6098,  13.9915,   8.4072,  -8.8322,  14.4332,\n",
      "          -5.0880,  20.0001,  14.3660],\n",
      "        [ 13.2875,   4.1747, -11.5886,  15.7690,   2.4648,  -8.8365,  11.6122,\n",
      "           0.7543,  17.5410,  20.4281],\n",
      "        [ 19.5730,   8.2096, -14.5719,   8.3194,   2.8765,  -5.2975,   7.8243,\n",
      "           1.3432,  23.0328,  13.3549],\n",
      "        [  1.7473,  10.7578, -19.1868,  23.7352,   2.9758,  -0.9605,  14.2116,\n",
      "           2.3003,  26.9190,  19.6618],\n",
      "        [ 18.2303,   0.7862, -14.0871,  20.6707,   4.2529,  -7.8392,  22.9563,\n",
      "          -2.4960,  23.4171,   6.8299],\n",
      "        [  4.5673,   9.6230,  -9.0370,  15.3748,   0.5178, -17.8100,  11.6591,\n",
      "           0.7353,  29.3989,   3.7983],\n",
      "        [ 20.2249,  11.2998, -12.7249,  17.8743,   1.3102,   7.7021,   6.8994,\n",
      "          -2.6396,  20.7649,  14.9848],\n",
      "        [ 13.8544,  16.0467, -15.3355,  13.9345,  -4.9017,  -9.5219,  10.4197,\n",
      "           8.4491,  29.1048,  24.2519],\n",
      "        [ 17.4569,   9.0590, -17.7901,   8.9509,   2.4040, -10.9532,   1.1068,\n",
      "           0.1946,  24.0927,  18.8497],\n",
      "        [ 14.7971,   9.0315, -22.2456,  22.2228,   7.4236,  -5.8668,  17.0881,\n",
      "         -12.4717,  20.0411,  16.9208],\n",
      "        [ 19.2884,   2.2418, -22.6293,  13.9313,  -3.5909,  -5.4890,   9.7058,\n",
      "         -12.5698,  25.0936,  13.5871],\n",
      "        [ 16.6566,  10.1938, -17.6752,   9.2930,   4.8672,  -5.4290,   7.5217,\n",
      "           5.1465,  28.3541,  15.8634],\n",
      "        [  1.0130,  -0.9831, -19.8784,   5.0634,  -2.2296,  -0.8650,   9.4914,\n",
      "           0.6841,  16.1247,   2.7315],\n",
      "        [  2.5020,   8.1812, -15.9330,  15.3456,  -0.7476,  -0.3338,  10.7461,\n",
      "          -5.2476,  24.6512,  24.4265],\n",
      "        [  6.5396,   4.4804, -17.0471,  12.1208,  -1.8873,   1.4706,   9.6610,\n",
      "           5.5276,  20.2062,  17.4897],\n",
      "        [  3.5038,   3.6386, -14.4579,  18.5705,   0.9967,   7.7632,  18.7848,\n",
      "           1.5253,  22.9498,   7.3448],\n",
      "        [  8.3626,   3.3940, -18.5916,  27.1326,  -2.8930,  -2.5457,  20.9416,\n",
      "          -4.3777,  18.3475,  18.3080],\n",
      "        [ 15.1757,   6.1869, -29.2979,  24.5590,  -2.9223,  -3.3375,  14.5838,\n",
      "          -6.6185,  26.9235,  18.3381],\n",
      "        [ -1.6380,  13.3713,  -2.5943,  26.9091,   0.8232,  -9.1103,  22.8445,\n",
      "          -3.4504,  17.3142,   4.5960],\n",
      "        [  5.6403,  11.0366, -17.3170,   2.4527,  -4.4789, -11.0229,  16.5112,\n",
      "           4.1211,  25.9676,  11.1263],\n",
      "        [  8.1025,   9.7065, -19.6486,   7.5528, -10.8982,  -0.2109,  11.0872,\n",
      "           5.2167,  12.3008,  15.8455],\n",
      "        [ 11.0233,   5.0500, -21.2098,  19.2619,  -7.0960,  -0.7336,  12.0877,\n",
      "          -6.8199,  26.9127,  12.5127],\n",
      "        [  1.5364,  10.5785,  -9.0375,  16.2132,   0.0569, -10.3636,  14.7363,\n",
      "           3.7155,  17.1900,  12.6952],\n",
      "        [ 19.9294,   1.7222, -19.7011,  17.1738,   2.7860, -13.9500,  11.4727,\n",
      "           4.9482,  28.0442,  11.3200],\n",
      "        [ 17.3412,   7.4426,  -5.2527,  16.9973,   0.8035,  -9.3767,  10.5982,\n",
      "          -2.7398,  28.1662,   4.8708],\n",
      "        [ 15.5282,  10.4585, -20.7183,  10.2350,  -8.8756,  -2.0264,   8.6397,\n",
      "          -7.1358,  29.0412,  12.8048],\n",
      "        [ 10.1374,  13.0706, -12.9302,  13.7364,   1.9504,  -8.1710,  10.7927,\n",
      "           2.6043,  17.6694,   5.7006],\n",
      "        [ 13.1649,   9.0272, -24.8730,   6.2435,  -4.1705,  -2.5814,   8.0700,\n",
      "           0.9082,  31.6991,  26.4969],\n",
      "        [ 10.3644,  -2.2102, -14.3838,  18.9997,   2.4461,  -3.4245,  22.4780,\n",
      "           2.1524,  11.8916,   4.6331],\n",
      "        [  3.3539,   8.2724, -14.4584,   7.4253,   1.7362, -13.3223,  10.0599,\n",
      "           3.1945,  18.6117,   9.9611],\n",
      "        [ 11.8014,   9.6072, -28.2344,   8.7737,  -2.6616,  -5.1458,  13.7001,\n",
      "          -3.6823,  24.0990,  15.5519],\n",
      "        [ 14.1169,  14.6661, -20.1990,  21.5353,   3.3327,   1.5871,   7.1583,\n",
      "          -3.1526,  23.6504,   8.1304],\n",
      "        [  7.6480,   8.6788, -22.3437,  17.1900,  -0.8202,   0.7168,   8.2028,\n",
      "           0.9959,  24.0668,  16.4078],\n",
      "        [ 10.9782,  -5.4614, -13.0133,  16.1483,   1.3926,  -8.3471,   8.1167,\n",
      "          -0.5559,  25.8087,   0.0654],\n",
      "        [ 14.5300,  10.4829,  -9.7253,  21.3610,   3.1493,  -5.7569,   9.1695,\n",
      "           5.0505,  27.1336,  16.4226],\n",
      "        [ 12.9465,  11.2015, -17.9152,  11.1084,  -4.7323, -10.6369,   6.7562,\n",
      "           4.7036,  20.8986,   7.6330],\n",
      "        [ 17.8555,  10.8493, -18.3264,   9.4848, -11.2084, -11.1279,   5.7739,\n",
      "           1.5744,  27.7830,  17.9267],\n",
      "        [ 21.0221,   2.8066, -22.9481,   9.8174,   3.0534,  -2.3953,   6.7273,\n",
      "           1.8645,  22.0654,  13.4787],\n",
      "        [ 21.6446,   7.3103, -19.5931,  15.0455,   3.8778,  -2.5442,  15.5397,\n",
      "           3.4393,  19.4457,  13.7336],\n",
      "        [ 10.7629,  10.9589, -23.9956,  19.9664,  -2.7170,   2.3455,  12.3217,\n",
      "          -1.3053,  23.5956,  30.6676],\n",
      "        [  5.0757,   9.7914,  -7.6489,  -2.3658,  -2.9618,  -4.9215,  17.7263,\n",
      "           4.6294,  20.3476,   6.1784],\n",
      "        [ 19.9292,   7.9855, -16.4412,  21.8346,   1.0719,  -9.9416,  11.9976,\n",
      "          -6.2182,  32.2920,  12.9561],\n",
      "        [ 14.1296,   7.3922, -14.6455,  13.6443,  -1.1149,  -7.7984,  11.1742,\n",
      "          -3.5335,  19.9390,  14.9029],\n",
      "        [ 13.3194,   8.1248, -13.4705,  18.3506,  -2.3756,  -7.7622,  14.7752,\n",
      "           1.3919,  21.9403,  15.8233],\n",
      "        [ 13.1235,  13.2028, -18.2307,   7.6666,  -1.9027,  -8.3837,   6.6915,\n",
      "           3.6415,  31.6480,   9.3287],\n",
      "        [ -1.0773,  11.3575, -14.4032,  11.4151,  -9.3000,  -3.6790,  19.8544,\n",
      "           6.0021,  23.8518,   7.7789],\n",
      "        [ 12.1710,   9.1905, -25.8990,  17.5109,  -2.7252,  -2.3436,  16.3370,\n",
      "           5.9714,  22.7214,  21.3225],\n",
      "        [  4.2738,   2.8929, -20.1092,  21.8102,   4.4930, -16.1643,   9.8706,\n",
      "           7.0296,  32.1911,  20.9104],\n",
      "        [ 12.3207,   6.9098, -20.1692,  16.2590,   3.5348,  -1.3606,  16.7383,\n",
      "         -11.1314,  25.8605,  23.1507],\n",
      "        [  7.7827,  -0.9401, -13.8542,  20.0666, -10.5095,  -9.3163,  10.6789,\n",
      "          -5.2896,  18.8444,  12.1499],\n",
      "        [ 14.7475,   5.7557, -11.0212,  15.6304,   3.0014,  -6.5120,  10.7286,\n",
      "           9.7108,  27.8701,  25.0865],\n",
      "        [  7.4572,   5.1644, -22.1030,  24.6782,   1.7400,  -5.1457,   9.4751,\n",
      "           6.8273,  27.1733,  22.7859]])\n"
     ]
    }
   ],
   "source": [
    "## Your solution\n",
    "def activation(x):\n",
    "    \"\"\" Sigmoid activation function \n",
    "    \n",
    "        Arguments\n",
    "        ---------\n",
    "        x: torch.Tensor\n",
    "    \"\"\"\n",
    "    return 1/(1+torch.exp(-x))\n",
    "\n",
    "### Flatten input images\n",
    "inputs= images.view(images.shape[0],-1)\n",
    "\n",
    "# Parameters\n",
    "W1 = torch.randn(784, 256)\n",
    "B1 = torch.randn(256)\n",
    "\n",
    "W2 = torch.randn(256, 10)\n",
    "B2 = torch.randn(10)\n",
    "\n",
    "h= activation(torch.mm(inputs,W1)+B1)\n",
    "\n",
    "out = torch.mm(h, W2)+B2\n",
    "# output of your network, should have shape (64,10)\n",
    "print(out)"
   ]
  },
  {
   "cell_type": "markdown",
   "metadata": {},
   "source": [
    "Now we have 10 outputs for our network. We want to pass in an image to our network and get out a probability distribution over the classes that tells us the likely class(es) the image belongs to. Something that looks like this:\n",
    "<img src='assets/image_distribution.png' width=500px>\n",
    "\n",
    "Here we see that the probability for each class is roughly the same. This is representing an untrained network, it hasn't seen any data yet so it just returns a uniform distribution with equal probabilities for each class.\n",
    "\n",
    "To calculate this probability distribution, we often use the [**softmax** function](https://en.wikipedia.org/wiki/Softmax_function). Mathematically this looks like\n",
    "\n",
    "$$\n",
    "\\Large \\sigma(x_i) = \\cfrac{e^{x_i}}{\\sum_k^K{e^{x_k}}}\n",
    "$$\n",
    "\n",
    "What this does is squish each input $x_i$ between 0 and 1 and normalizes the values to give you a proper probability distribution where the probabilites sum up to one.\n",
    "\n",
    "> **Exercise:** Implement a function `softmax` that performs the softmax calculation and returns probability distributions for each example in the batch. Note that you'll need to pay attention to the shapes when doing this. If you have a tensor `a` with shape `(64, 10)` and a tensor `b` with shape `(64,)`, doing `a/b` will give you an error because PyTorch will try to do the division across the columns (called broadcasting) but you'll get a size mismatch. The way to think about this is for each of the 64 examples, you only want to divide by one value, the sum in the denominator. So you need `b` to have a shape of `(64, 1)`. This way PyTorch will divide the 10 values in each row of `a` by the one value in each row of `b`. Pay attention to how you take the sum as well. You'll need to define the `dim` keyword in `torch.sum`. Setting `dim=0` takes the sum across the rows while `dim=1` takes the sum across the columns."
   ]
  },
  {
   "cell_type": "code",
   "execution_count": 8,
   "metadata": {},
   "outputs": [
    {
     "name": "stdout",
     "output_type": "stream",
     "text": [
      "torch.Size([64, 10])\n",
      "tensor([1.0000, 1.0000, 1.0000, 1.0000, 1.0000, 1.0000, 1.0000, 1.0000, 1.0000,\n",
      "        1.0000, 1.0000, 1.0000, 1.0000, 1.0000, 1.0000, 1.0000, 1.0000, 1.0000,\n",
      "        1.0000, 1.0000, 1.0000, 1.0000, 1.0000, 1.0000, 1.0000, 1.0000, 1.0000,\n",
      "        1.0000, 1.0000, 1.0000, 1.0000, 1.0000, 1.0000, 1.0000, 1.0000, 1.0000,\n",
      "        1.0000, 1.0000, 1.0000, 1.0000, 1.0000, 1.0000, 1.0000, 1.0000, 1.0000,\n",
      "        1.0000, 1.0000, 1.0000, 1.0000, 1.0000, 1.0000, 1.0000, 1.0000, 1.0000,\n",
      "        1.0000, 1.0000, 1.0000, 1.0000, 1.0000, 1.0000, 1.0000, 1.0000, 1.0000,\n",
      "        1.0000])\n"
     ]
    }
   ],
   "source": [
    "def softmax(x):\n",
    "    ## TODO: Implement the softmax function here\n",
    "    return torch.exp(x)/torch.sum(torch.exp(x), dim=1).view(-1,1)\n",
    "\n",
    "# Here, out should be the output of the network in the previous excercise with shape (64,10)\n",
    "probabilities = softmax(out)\n",
    "\n",
    "# Does it have the right shape? Should be (64, 10)\n",
    "print(probabilities.shape)\n",
    "# Does it sum to 1?\n",
    "print(probabilities.sum(dim=1))"
   ]
  },
  {
   "cell_type": "markdown",
   "metadata": {},
   "source": [
    "## Building networks with PyTorch\n",
    "\n",
    "PyTorch provides a module `nn` that makes building networks much simpler. Here I'll show you how to build the same one as above with 784 inputs, 256 hidden units, 10 output units and a softmax output."
   ]
  },
  {
   "cell_type": "code",
   "execution_count": 9,
   "metadata": {},
   "outputs": [],
   "source": [
    "from torch import nn"
   ]
  },
  {
   "cell_type": "code",
   "execution_count": 10,
   "metadata": {},
   "outputs": [],
   "source": [
    "class Network(nn.Module):\n",
    "    def __init__(self):\n",
    "        super().__init__()\n",
    "        \n",
    "        # Inputs to hidden layer linear transformation\n",
    "        self.hidden = nn.Linear(784, 256)\n",
    "        # Output layer, 10 units - one for each digit\n",
    "        self.output = nn.Linear(256, 10)\n",
    "        \n",
    "        # Define sigmoid activation and softmax output \n",
    "        self.sigmoid = nn.Sigmoid()\n",
    "        self.softmax = nn.Softmax(dim=1)\n",
    "        \n",
    "    def forward(self, x):\n",
    "        # Pass the input tensor through each of our operations\n",
    "        x = self.hidden(x)\n",
    "        x = self.sigmoid(x)\n",
    "        x = self.output(x)\n",
    "        x = self.softmax(x)\n",
    "        \n",
    "        return x"
   ]
  },
  {
   "cell_type": "markdown",
   "metadata": {},
   "source": [
    "Let's go through this bit by bit.\n",
    "\n",
    "```python\n",
    "class Network(nn.Module):\n",
    "```\n",
    "\n",
    "Here we're inheriting from `nn.Module`. Combined with `super().__init__()` this creates a class that tracks the architecture and provides a lot of useful methods and attributes. It is mandatory to inherit from `nn.Module` when you're creating a class for your network. The name of the class itself can be anything.\n",
    "\n",
    "```python\n",
    "self.hidden = nn.Linear(784, 256)\n",
    "```\n",
    "\n",
    "This line creates a module for a linear transformation, $x\\mathbf{W} + b$, with 784 inputs and 256 outputs and assigns it to `self.hidden`. The module automatically creates the weight and bias tensors which we'll use in the `forward` method. You can access the weight and bias tensors once the network (`net`) is created with `net.hidden.weight` and `net.hidden.bias`.\n",
    "\n",
    "```python\n",
    "self.output = nn.Linear(256, 10)\n",
    "```\n",
    "\n",
    "Similarly, this creates another linear transformation with 256 inputs and 10 outputs.\n",
    "\n",
    "```python\n",
    "self.sigmoid = nn.Sigmoid()\n",
    "self.softmax = nn.Softmax(dim=1)\n",
    "```\n",
    "\n",
    "Here I defined operations for the sigmoid activation and softmax output. Setting `dim=1` in `nn.Softmax(dim=1)` calculates softmax across the columns.\n",
    "\n",
    "```python\n",
    "def forward(self, x):\n",
    "```\n",
    "\n",
    "PyTorch networks created with `nn.Module` must have a `forward` method defined. It takes in a tensor `x` and passes it through the operations you defined in the `__init__` method.\n",
    "\n",
    "```python\n",
    "x = self.hidden(x)\n",
    "x = self.sigmoid(x)\n",
    "x = self.output(x)\n",
    "x = self.softmax(x)\n",
    "```\n",
    "\n",
    "Here the input tensor `x` is passed through each operation a reassigned to `x`. We can see that the input tensor goes through the hidden layer, then a sigmoid function, then the output layer, and finally the softmax function. It doesn't matter what you name the variables here, as long as the inputs and outputs of the operations match the network architecture you want to build. The order in which you define things in the `__init__` method doesn't matter, but you'll need to sequence the operations correctly in the `forward` method.\n",
    "\n",
    "Now we can create a `Network` object."
   ]
  },
  {
   "cell_type": "code",
   "execution_count": 11,
   "metadata": {},
   "outputs": [
    {
     "data": {
      "text/plain": [
       "Network(\n",
       "  (hidden): Linear(in_features=784, out_features=256, bias=True)\n",
       "  (output): Linear(in_features=256, out_features=10, bias=True)\n",
       "  (sigmoid): Sigmoid()\n",
       "  (softmax): Softmax()\n",
       ")"
      ]
     },
     "execution_count": 11,
     "metadata": {},
     "output_type": "execute_result"
    }
   ],
   "source": [
    "# Create the network and look at it's text representation\n",
    "model = Network()\n",
    "model"
   ]
  },
  {
   "cell_type": "markdown",
   "metadata": {},
   "source": [
    "You can define the network somewhat more concisely and clearly using the `torch.nn.functional` module. This is the most common way you'll see networks defined as many operations are simple element-wise functions. We normally import this module as `F`, `import torch.nn.functional as F`."
   ]
  },
  {
   "cell_type": "code",
   "execution_count": 12,
   "metadata": {},
   "outputs": [],
   "source": [
    "import torch.nn.functional as F\n",
    "\n",
    "class Network(nn.Module):\n",
    "    def __init__(self):\n",
    "        super().__init__()\n",
    "        # Inputs to hidden layer linear transformation\n",
    "        self.hidden = nn.Linear(784, 256)\n",
    "        # Output layer, 10 units - one for each digit\n",
    "        self.output = nn.Linear(256, 10)\n",
    "        \n",
    "    def forward(self, x):\n",
    "        # Hidden layer with sigmoid activation\n",
    "        x = F.sigmoid(self.hidden(x))\n",
    "        # Output layer with softmax activation\n",
    "        x = F.softmax(self.output(x), dim=1)\n",
    "        \n",
    "        return x"
   ]
  },
  {
   "cell_type": "markdown",
   "metadata": {},
   "source": [
    "### Activation functions\n",
    "\n",
    "So far we've only been looking at the softmax activation, but in general any function can be used as an activation function. The only requirement is that for a network to approximate a non-linear function, the activation functions must be non-linear. Here are a few more examples of common activation functions: Tanh (hyperbolic tangent), and ReLU (rectified linear unit).\n",
    "\n",
    "<img src=\"assets/activation.png\" width=700px>\n",
    "\n",
    "In practice, the ReLU function is used almost exclusively as the activation function for hidden layers."
   ]
  },
  {
   "cell_type": "markdown",
   "metadata": {},
   "source": [
    "### Your Turn to Build a Network\n",
    "\n",
    "<img src=\"assets/mlp_mnist.png\" width=600px>\n",
    "\n",
    "> **Exercise:** Create a network with 784 input units, a hidden layer with 128 units and a ReLU activation, then a hidden layer with 64 units and a ReLU activation, and finally an output layer with a softmax activation as shown above. You can use a ReLU activation with the `nn.ReLU` module or `F.relu` function."
   ]
  },
  {
   "cell_type": "code",
   "execution_count": 14,
   "metadata": {
    "scrolled": true
   },
   "outputs": [
    {
     "data": {
      "text/plain": [
       "Network(\n",
       "  (hidden1): Linear(in_features=784, out_features=128, bias=True)\n",
       "  (hidden2): Linear(in_features=128, out_features=64, bias=True)\n",
       "  (output): Linear(in_features=64, out_features=10, bias=True)\n",
       ")"
      ]
     },
     "execution_count": 14,
     "metadata": {},
     "output_type": "execute_result"
    }
   ],
   "source": [
    "## Your solution here\n",
    "import torch.nn.functional as F\n",
    "\n",
    "class Network(nn.Module):\n",
    "    def __init__(self):\n",
    "        super().__init__()\n",
    "        # Inputs to hidden layer linear transformation\n",
    "        self.hidden1 = nn.Linear(784, 128)\n",
    "        #Second hidden layer linear transformation\n",
    "        self.hidden2 = nn.Linear(128, 64)\n",
    "        # Output layer, 10 units - one for each digit\n",
    "        self.output = nn.Linear(64, 10)\n",
    "        \n",
    "    def forward(self, x):\n",
    "        # Hidden layer 1 with Relu activation\n",
    "        x = F.relu(self.hidden1(x))\n",
    "        # Hidden layer 2 with Relu activation\n",
    "        x = F.relu(self.hidden2(x))\n",
    "        # Output layer with softmax activation\n",
    "        x = F.softmax(self.output(x), dim=1)\n",
    "        #Final layer ?\n",
    "        #x = F.cross_entropy(x)\n",
    "        \n",
    "        return x\n",
    "    \n",
    "model = Network()\n",
    "model"
   ]
  },
  {
   "cell_type": "markdown",
   "metadata": {},
   "source": [
    "### Initializing weights and biases\n",
    "\n",
    "The weights and such are automatically initialized for you, but it's possible to customize how they are initialized. The weights and biases are tensors attached to the layer you defined, you can get them with `model.fc1.weight` for instance."
   ]
  },
  {
   "cell_type": "code",
   "execution_count": 16,
   "metadata": {},
   "outputs": [
    {
     "name": "stdout",
     "output_type": "stream",
     "text": [
      "Parameter containing:\n",
      "tensor([[ 0.0252,  0.0138, -0.0289,  ..., -0.0077, -0.0044, -0.0284],\n",
      "        [ 0.0187,  0.0114,  0.0182,  ..., -0.0048,  0.0069, -0.0017],\n",
      "        [ 0.0047, -0.0110, -0.0283,  ...,  0.0165,  0.0302,  0.0082],\n",
      "        ...,\n",
      "        [ 0.0330,  0.0266, -0.0153,  ..., -0.0297,  0.0192, -0.0078],\n",
      "        [-0.0254, -0.0316,  0.0265,  ...,  0.0163, -0.0119, -0.0203],\n",
      "        [-0.0040,  0.0147, -0.0164,  ...,  0.0210, -0.0344, -0.0227]],\n",
      "       requires_grad=True)\n",
      "Parameter containing:\n",
      "tensor([-0.0046,  0.0054, -0.0234,  0.0063, -0.0126,  0.0002, -0.0285,  0.0263,\n",
      "        -0.0258, -0.0315,  0.0280,  0.0253,  0.0056,  0.0352,  0.0029, -0.0265,\n",
      "        -0.0195,  0.0057,  0.0071, -0.0157, -0.0118,  0.0321,  0.0333, -0.0048,\n",
      "         0.0004, -0.0087,  0.0248, -0.0277,  0.0040,  0.0105,  0.0341,  0.0190,\n",
      "        -0.0264,  0.0048,  0.0302,  0.0076, -0.0189,  0.0301,  0.0015, -0.0136,\n",
      "        -0.0001,  0.0339, -0.0002,  0.0099, -0.0263,  0.0237, -0.0321, -0.0246,\n",
      "        -0.0020, -0.0214,  0.0146, -0.0217,  0.0157, -0.0060,  0.0024,  0.0092,\n",
      "        -0.0336,  0.0109,  0.0200,  0.0083, -0.0005, -0.0292, -0.0248,  0.0052,\n",
      "        -0.0330,  0.0134,  0.0313, -0.0072, -0.0085, -0.0201,  0.0234, -0.0167,\n",
      "        -0.0065,  0.0308,  0.0196, -0.0086,  0.0097, -0.0060,  0.0054,  0.0284,\n",
      "         0.0015, -0.0098,  0.0051,  0.0269,  0.0308,  0.0119, -0.0177,  0.0245,\n",
      "         0.0329,  0.0018,  0.0312,  0.0172, -0.0144, -0.0226, -0.0050, -0.0354,\n",
      "         0.0247,  0.0178,  0.0143, -0.0033, -0.0291, -0.0302, -0.0178,  0.0198,\n",
      "        -0.0271,  0.0260, -0.0267, -0.0301, -0.0319, -0.0062, -0.0229,  0.0098,\n",
      "        -0.0291,  0.0199, -0.0318,  0.0314, -0.0263,  0.0062, -0.0315,  0.0124,\n",
      "         0.0135,  0.0088, -0.0323,  0.0221, -0.0173,  0.0199, -0.0343, -0.0040],\n",
      "       requires_grad=True)\n"
     ]
    }
   ],
   "source": [
    "print(model.hidden1.weight)\n",
    "print(model.hidden1.bias)"
   ]
  },
  {
   "cell_type": "markdown",
   "metadata": {},
   "source": [
    "For custom initialization, we want to modify these tensors in place. These are actually autograd *Variables*, so we need to get back the actual tensors with `model.fc1.weight.data`. Once we have the tensors, we can fill them with zeros (for biases) or random normal values."
   ]
  },
  {
   "cell_type": "code",
   "execution_count": 17,
   "metadata": {},
   "outputs": [
    {
     "data": {
      "text/plain": [
       "tensor([0., 0., 0., 0., 0., 0., 0., 0., 0., 0., 0., 0., 0., 0., 0., 0., 0., 0., 0., 0., 0., 0., 0., 0.,\n",
       "        0., 0., 0., 0., 0., 0., 0., 0., 0., 0., 0., 0., 0., 0., 0., 0., 0., 0., 0., 0., 0., 0., 0., 0.,\n",
       "        0., 0., 0., 0., 0., 0., 0., 0., 0., 0., 0., 0., 0., 0., 0., 0., 0., 0., 0., 0., 0., 0., 0., 0.,\n",
       "        0., 0., 0., 0., 0., 0., 0., 0., 0., 0., 0., 0., 0., 0., 0., 0., 0., 0., 0., 0., 0., 0., 0., 0.,\n",
       "        0., 0., 0., 0., 0., 0., 0., 0., 0., 0., 0., 0., 0., 0., 0., 0., 0., 0., 0., 0., 0., 0., 0., 0.,\n",
       "        0., 0., 0., 0., 0., 0., 0., 0.])"
      ]
     },
     "execution_count": 17,
     "metadata": {},
     "output_type": "execute_result"
    }
   ],
   "source": [
    "# Set biases to all zeros\n",
    "model.hidden1.bias.data.fill_(0)"
   ]
  },
  {
   "cell_type": "code",
   "execution_count": 18,
   "metadata": {},
   "outputs": [
    {
     "data": {
      "text/plain": [
       "tensor([[ 3.2330e-03,  1.6192e-02,  1.5330e-03,  ..., -1.0915e-02,\n",
       "          6.3405e-03, -1.2356e-02],\n",
       "        [ 3.1110e-03, -1.8505e-02,  1.9147e-02,  ..., -1.8411e-03,\n",
       "          9.5609e-05, -2.1323e-03],\n",
       "        [-3.7582e-03,  7.1858e-03,  4.1207e-03,  ..., -2.6166e-03,\n",
       "         -1.5449e-02,  8.1101e-03],\n",
       "        ...,\n",
       "        [ 4.2831e-03, -7.1756e-03, -1.0144e-02,  ...,  1.8195e-02,\n",
       "          5.0253e-04, -6.7027e-03],\n",
       "        [ 1.4930e-02, -2.9363e-03, -1.4845e-03,  ..., -1.5912e-02,\n",
       "         -9.5077e-03, -1.0448e-02],\n",
       "        [ 2.0818e-04, -7.8791e-03, -9.1320e-03,  ..., -9.4432e-03,\n",
       "          9.3831e-04, -1.2952e-02]])"
      ]
     },
     "execution_count": 18,
     "metadata": {},
     "output_type": "execute_result"
    }
   ],
   "source": [
    "# sample from random normal with standard dev = 0.01\n",
    "model.hidden1.weight.data.normal_(std=0.01)"
   ]
  },
  {
   "cell_type": "markdown",
   "metadata": {},
   "source": [
    "### Forward pass\n",
    "\n",
    "Now that we have a network, let's see what happens when we pass in an image."
   ]
  },
  {
   "cell_type": "code",
   "execution_count": 19,
   "metadata": {},
   "outputs": [
    {
     "data": {
      "image/png": "[encoded data removed]",
      "text/plain": [
       "<Figure size 432x648 with 2 Axes>"
      ]
     },
     "metadata": {
      "image/png": {
       "height": 226,
       "width": 423
      },
      "needs_background": "light"
     },
     "output_type": "display_data"
    }
   ],
   "source": [
    "# Grab some data \n",
    "dataiter = iter(trainloader)\n",
    "images, labels = dataiter.next()\n",
    "\n",
    "# Resize images into a 1D vector, new shape is (batch size, color channels, image pixels) \n",
    "images.resize_(64, 1, 784)\n",
    "# or images.resize_(images.shape[0], 1, 784) to automatically get batch size\n",
    "\n",
    "# Forward pass through the network\n",
    "img_idx = 0\n",
    "ps = model.forward(images[img_idx,:])\n",
    "\n",
    "img = images[img_idx]\n",
    "helper.view_classify(img.view(1, 28, 28), ps)"
   ]
  },
  {
   "cell_type": "markdown",
   "metadata": {},
   "source": [
    "As you can see above, our network has basically no idea what this digit is. It's because we haven't trained it yet, all the weights are random!\n",
    "\n",
    "### Using `nn.Sequential`\n",
    "\n",
    "PyTorch provides a convenient way to build networks like this where a tensor is passed sequentially through operations, `nn.Sequential` ([documentation](https://pytorch.org/docs/master/nn.html#torch.nn.Sequential)). Using this to build the equivalent network:"
   ]
  },
  {
   "cell_type": "code",
   "execution_count": 20,
   "metadata": {},
   "outputs": [
    {
     "name": "stdout",
     "output_type": "stream",
     "text": [
      "Sequential(\n",
      "  (0): Linear(in_features=784, out_features=128, bias=True)\n",
      "  (1): ReLU()\n",
      "  (2): Linear(in_features=128, out_features=64, bias=True)\n",
      "  (3): ReLU()\n",
      "  (4): Linear(in_features=64, out_features=10, bias=True)\n",
      "  (5): Softmax()\n",
      ")\n"
     ]
    },
    {
     "data": {
      "image/png": "[encoded data removed]",
      "text/plain": [
       "<Figure size 432x648 with 2 Axes>"
      ]
     },
     "metadata": {
      "image/png": {
       "height": 226,
       "width": 423
      },
      "needs_background": "light"
     },
     "output_type": "display_data"
    }
   ],
   "source": [
    "# Hyperparameters for our network\n",
    "input_size = 784\n",
    "hidden_sizes = [128, 64]\n",
    "output_size = 10\n",
    "\n",
    "# Build a feed-forward network\n",
    "model = nn.Sequential(nn.Linear(input_size, hidden_sizes[0]),\n",
    "                      nn.ReLU(),\n",
    "                      nn.Linear(hidden_sizes[0], hidden_sizes[1]),\n",
    "                      nn.ReLU(),\n",
    "                      nn.Linear(hidden_sizes[1], output_size),\n",
    "                      nn.Softmax(dim=1))\n",
    "print(model)\n",
    "\n",
    "# Forward pass through the network and display output\n",
    "images, labels = next(iter(trainloader))\n",
    "images.resize_(images.shape[0], 1, 784)\n",
    "ps = model.forward(images[0,:])\n",
    "helper.view_classify(images[0].view(1, 28, 28), ps)"
   ]
  },
  {
   "cell_type": "markdown",
   "metadata": {},
   "source": [
    "Here our model is the same as before: 784 input units, a hidden layer with 128 units, ReLU activation, 64 unit hidden layer, another ReLU, then the output layer with 10 units, and the softmax output.\n",
    "\n",
    "The operations are availble by passing in the appropriate index. For example, if you want to get first Linear operation and look at the weights, you'd use `model[0]`."
   ]
  },
  {
   "cell_type": "code",
   "execution_count": 21,
   "metadata": {},
   "outputs": [
    {
     "name": "stdout",
     "output_type": "stream",
     "text": [
      "Linear(in_features=784, out_features=128, bias=True)\n"
     ]
    },
    {
     "data": {
      "text/plain": [
       "Parameter containing:\n",
       "tensor([[-0.0263,  0.0292, -0.0302,  ...,  0.0282, -0.0094,  0.0356],\n",
       "        [ 0.0225,  0.0272, -0.0270,  ...,  0.0096,  0.0198, -0.0195],\n",
       "        [-0.0163,  0.0304,  0.0032,  ...,  0.0155,  0.0081, -0.0269],\n",
       "        ...,\n",
       "        [-0.0154, -0.0097,  0.0157,  ...,  0.0336,  0.0038,  0.0331],\n",
       "        [-0.0237,  0.0336, -0.0025,  ..., -0.0066,  0.0293,  0.0250],\n",
       "        [-0.0037, -0.0260,  0.0029,  ...,  0.0172, -0.0326, -0.0284]],\n",
       "       requires_grad=True)"
      ]
     },
     "execution_count": 21,
     "metadata": {},
     "output_type": "execute_result"
    }
   ],
   "source": [
    "print(model[0])\n",
    "model[0].weight"
   ]
  },
  {
   "cell_type": "markdown",
   "metadata": {},
   "source": [
    "You can also pass in an `OrderedDict` to name the individual layers and operations, instead of using incremental integers. Note that dictionary keys must be unique, so _each operation must have a different name_."
   ]
  },
  {
   "cell_type": "code",
   "execution_count": 22,
   "metadata": {},
   "outputs": [
    {
     "data": {
      "text/plain": [
       "Sequential(\n",
       "  (fc1): Linear(in_features=784, out_features=128, bias=True)\n",
       "  (relu1): ReLU()\n",
       "  (fc2): Linear(in_features=128, out_features=64, bias=True)\n",
       "  (relu2): ReLU()\n",
       "  (output): Linear(in_features=64, out_features=10, bias=True)\n",
       "  (softmax): Softmax()\n",
       ")"
      ]
     },
     "execution_count": 22,
     "metadata": {},
     "output_type": "execute_result"
    }
   ],
   "source": [
    "from collections import OrderedDict\n",
    "model = nn.Sequential(OrderedDict([\n",
    "                      ('fc1', nn.Linear(input_size, hidden_sizes[0])),\n",
    "                      ('relu1', nn.ReLU()),\n",
    "                      ('fc2', nn.Linear(hidden_sizes[0], hidden_sizes[1])),\n",
    "                      ('relu2', nn.ReLU()),\n",
    "                      ('output', nn.Linear(hidden_sizes[1], output_size)),\n",
    "                      ('softmax', nn.Softmax(dim=1))]))\n",
    "model"
   ]
  },
  {
   "cell_type": "markdown",
   "metadata": {},
   "source": [
    "Now you can access layers either by integer or the name"
   ]
  },
  {
   "cell_type": "code",
   "execution_count": 23,
   "metadata": {},
   "outputs": [
    {
     "name": "stdout",
     "output_type": "stream",
     "text": [
      "Linear(in_features=784, out_features=128, bias=True)\n",
      "Linear(in_features=784, out_features=128, bias=True)\n"
     ]
    }
   ],
   "source": [
    "print(model[0])\n",
    "print(model.fc1)"
   ]
  },
  {
   "cell_type": "markdown",
   "metadata": {},
   "source": [
    "In the next notebook, we'll see how we can train a neural network to accuractly predict the numbers appearing in the MNIST images."
   ]
  }
 ],
 "metadata": {
  "kernelspec": {
   "display_name": "Python 3",
   "language": "python",
   "name": "python3"
  },
  "language_info": {
   "codemirror_mode": {
    "name": "ipython",
    "version": 3
   },
   "file_extension": ".py",
   "mimetype": "text/x-python",
   "name": "python",
   "nbconvert_exporter": "python",
   "pygments_lexer": "ipython3",
   "version": "3.7.1"
  }
 },
 "nbformat": 4,
 "nbformat_minor": 2
}
