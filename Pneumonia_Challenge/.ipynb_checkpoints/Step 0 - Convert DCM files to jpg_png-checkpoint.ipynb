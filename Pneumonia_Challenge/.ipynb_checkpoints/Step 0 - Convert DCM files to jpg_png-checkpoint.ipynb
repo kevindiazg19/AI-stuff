{
 "cells": [
  {
   "cell_type": "markdown",
   "metadata": {},
   "source": [
    "# Pre-processing"
   ]
  },
  {
   "cell_type": "markdown",
   "metadata": {},
   "source": [
    "DICOM format file stands for Digital Imaging and Communications in Medicine. It is used as standard for communication and management of medical imaging information and related data. \n",
    "\n",
    "**PyDicom** it's a python package for inspecting and modifying DICOM files. Modifications can be written again to a new file."
   ]
  },
  {
   "cell_type": "code",
   "execution_count": null,
   "metadata": {},
   "outputs": [],
   "source": []
  },
  {
   "cell_type": "markdown",
   "metadata": {},
   "source": [
    "# Visualizing images using pydicom"
   ]
  },
  {
   "cell_type": "code",
   "execution_count": null,
   "metadata": {},
   "outputs": [],
   "source": [
    "import pydicom as dicom\n",
    "import pandas as pd\n",
    "import matplotlib.pyplot as plt"
   ]
  },
  {
   "cell_type": "code",
   "execution_count": null,
   "metadata": {},
   "outputs": [],
   "source": [
    "dir_img_path='C:/Users/Kevin.Diaz.nscorp/Documents/GitHub/AI-stuff/Pneumonia_Challenge/rsna-pneumonia-detection-challenge/stage_2_train_images/'\n",
    "image_path=dir_img_path+'970bb2ce-6966-47ed-82d0-923d8d0b8617'+'.dcm'\n",
    "\n",
    "ds= dicom.dcmread(image_path)\n",
    "\n",
    "plt.imshow(ds.pixel_array)\n",
    "\n",
    "plt.show()"
   ]
  },
  {
   "cell_type": "markdown",
   "metadata": {},
   "source": [
    "# Converting DCM file to JPG or PNG\n",
    "\n",
    "The following code was reused from [Vivek Kumar post](https://medium.com/@vivek8981/dicom-to-jpg-and-extract-all-patients-information-using-python-5e6dd1f1a07d) where he explains more about PyDicom and some other uses. For this exercises we will only use the conversion part for our image analysis."
   ]
  },
  {
   "cell_type": "code",
   "execution_count": null,
   "metadata": {},
   "outputs": [],
   "source": [
    "#Install and Import these libraries\n",
    "import pydicom as dicom\n",
    "import os\n",
    "import cv2"
   ]
  },
  {
   "cell_type": "code",
   "execution_count": null,
   "metadata": {},
   "outputs": [],
   "source": [
    "#Make true if PNG format needed\n",
    "PNG= False"
   ]
  },
  {
   "cell_type": "code",
   "execution_count": null,
   "metadata": {},
   "outputs": [],
   "source": [
    "#Specify the .dcm fodler path\n",
    "#This was tested on a Windows 7 machine\n",
    "#Here you have to specify either test or train folder. This is where images will be retrieved to convert.\n",
    "folder_path = 'C:/Users/Kevin.Diaz.nscorp/Documents/GitHub/AI-stuff/Pneumonia_Challenge/rsna-pneumonia-detection-challenge/stage_2_test_images/'"
   ]
  },
  {
   "cell_type": "code",
   "execution_count": null,
   "metadata": {},
   "outputs": [],
   "source": [
    "#Specify the output jpg/png folder path\n",
    "#This is where file will be saved as .jpg or .png\n",
    "jpg_folder_path = 'C:/Users/Kevin.Diaz.nscorp/Documents/GitHub/AI-stuff/Pneumonia_Challenge/rsna-pneumonia-detection-challenge/test_jpg/'"
   ]
  },
  {
   "cell_type": "code",
   "execution_count": null,
   "metadata": {},
   "outputs": [],
   "source": [
    "#List the folder path\n",
    "images_path=os.listdir(folder_path)"
   ]
  },
  {
   "cell_type": "code",
   "execution_count": null,
   "metadata": {},
   "outputs": [],
   "source": [
    "#iterate through every image and convert using pydicom, cv2 and numpy\n",
    "for n, image in enumerate(images_path):\n",
    "    ds = dicom.dcmread(os.path.join(folder_path, image))\n",
    "    pixel_array_numpy= ds.pixel_array\n",
    "    if PNG == False:\n",
    "        image=image.replace('.dcm','.jpg')\n",
    "    else:\n",
    "        image=image.replace('.dcm','.png')\n",
    "    cv2.imwrite(os.path.join(jpg_folder_path, image), pixel_array_numpy)\n",
    "    if n%50==0: #To verify progress of conversion a mod 50 operation is done, change it as needed.\n",
    "        print('{} image converted'.format(n))"
   ]
  },
  {
   "cell_type": "markdown",
   "metadata": {},
   "source": [
    "# New function to convert dcm to jpg/png"
   ]
  },
  {
   "cell_type": "code",
   "execution_count": 1,
   "metadata": {},
   "outputs": [],
   "source": [
    "import numpy as np\n",
    "import png, os, pydicom"
   ]
  },
  {
   "cell_type": "code",
   "execution_count": 2,
   "metadata": {},
   "outputs": [],
   "source": [
    "def dicom2png(source_folder, output_folder):\n",
    "    list_of_files=os.listdir(source_folder)\n",
    "    for file in list_of_files:\n",
    "        try:\n",
    "            ds = pydicom.dcmread(os.path.join(source_folder,file))\n",
    "            shape = ds.pixel_array.shape\n",
    "            \n",
    "            #Convert to float to avoid overflow or underflow losses\n",
    "            imaged_2d = ds.pixel_array.astype(float)\n",
    "            \n",
    "            #resclain grey scale between 0-255\n",
    "            images_2d_scaled = (np.maximum(imaged_2d,0)/imaged_2d.max())*255.0\n",
    "            \n",
    "            #convert to uint\n",
    "            images_2d_scaled = np.uint8(images_2d_scaled)\n",
    "            \n",
    "            #Write the PNG File\n",
    "            with open(os.path.join(output_folder,file)+'.png','wb') as png_file:\n",
    "                w = png.Writer(shape[1], shape[0], greyscale=True)\n",
    "                w.write(png_file, images_2d_scaled)\n",
    "                \n",
    "        except:\n",
    "            print('Could not convert:',file)"
   ]
  },
  {
   "cell_type": "code",
   "execution_count": 3,
   "metadata": {},
   "outputs": [],
   "source": [
    "source_folder='C:/Users/Kevin.Diaz.nscorp/Documents/GitHub/AI-stuff/Pneumonia_Challenge/rsna-pneumonia-detection-challenge/stage_2_test_images/'\n",
    "output_folder='C:/Users/Kevin.Diaz.nscorp/Documents/GitHub/AI-stuff/Pneumonia_Challenge/rsna-pneumonia-detection-challenge/test_png/'\n",
    "\n",
    "dicom2png(source_folder, output_folder)"
   ]
  },
  {
   "cell_type": "code",
   "execution_count": null,
   "metadata": {},
   "outputs": [],
   "source": []
  }
 ],
 "metadata": {
  "kernelspec": {
   "display_name": "Python 3",
   "language": "python",
   "name": "python3"
  },
  "language_info": {
   "codemirror_mode": {
    "name": "ipython",
    "version": 3
   },
   "file_extension": ".py",
   "mimetype": "text/x-python",
   "name": "python",
   "nbconvert_exporter": "python",
   "pygments_lexer": "ipython3",
   "version": "3.7.3"
  }
 },
 "nbformat": 4,
 "nbformat_minor": 2
}
